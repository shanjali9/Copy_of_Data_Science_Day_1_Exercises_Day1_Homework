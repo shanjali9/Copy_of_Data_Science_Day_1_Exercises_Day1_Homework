{
 "cells": [
  {
   "cell_type": "markdown",
   "metadata": {
    "id": "KdERlTpFuL5V"
   },
   "source": [
    "# Exercises"
   ]
  },
  {
   "cell_type": "markdown",
   "metadata": {
    "id": "to-gsrQyuL5Z"
   },
   "source": [
    "### #1 - Calculate the BMI (body mass index) on the two lists below using NDArrays..."
   ]
  },
  {
   "cell_type": "code",
   "execution_count": 7,
   "metadata": {
    "id": "iZlf9DzeuL5a"
   },
   "outputs": [
    {
     "data": {
      "text/plain": [
       "array([16.86620458, 17.87755102, 18.82562984, 19.71450617, 20.54794521,\n",
       "       21.32943755, 22.06222222])"
      ]
     },
     "execution_count": 7,
     "metadata": {},
     "output_type": "execute_result"
    }
   ],
   "source": [
    "import numpy as np\n",
    "# formula = weight / (height**2) * 730\n",
    "height = [69, 70, 71, 72, 73, 74, 75]\n",
    "weight = [110, 120, 130, 140, 150, 160, 170]\n",
    "\n",
    "arr1 = np.array(height)\n",
    "arr2 = np.array(weight)\n",
    "\n",
    "BMI = arr2 / (arr1 ** 2) * 730\n",
    "BMI"
   ]
  },
  {
   "cell_type": "markdown",
   "metadata": {
    "id": "RSsT8w8ouL5b"
   },
   "source": [
    "### #2 - Create a function that will take in two parameters and will create a random matrix based off of those parameters. Extra: Have additional parameters taken in that allow the user to choose the shape and data type of the matrix."
   ]
  },
  {
   "cell_type": "code",
   "execution_count": 16,
   "metadata": {
    "id": "ygFvj0aeuL5b"
   },
   "outputs": [
    {
     "name": "stdout",
     "output_type": "stream",
     "text": [
      "NDArray Structure: \n",
      "[[0 1 2]\n",
      " [3 4 5]]\n"
     ]
    },
    {
     "data": {
      "text/plain": [
       "array([[0, 1, 2],\n",
       "       [3, 4, 5]])"
      ]
     },
     "execution_count": 16,
     "metadata": {},
     "output_type": "execute_result"
    }
   ],
   "source": [
    "a = [0,1,2]\n",
    "b = [3,4,5]\n",
    "\n",
    "M = [a,b]\n",
    "M\n",
    "\n",
    "ND_M = np.array(M)\n",
    "print(f\"NDArray Structure: \\n{ND_M}\")\n",
    "ND_M"
   ]
  },
  {
   "cell_type": "markdown",
   "metadata": {
    "id": "e5mP1UX9uL5c"
   },
   "source": [
    "### #3 - Extra: Open and load the data in the two text files that have the Boston Red Sox hitting data for the past seasons. Compare the difference in the two years by putting the data into an NDArray and running a differencial operation on it. The column to look for will be SLG.\n",
    "\n",
    "Your output should display which year (either 2017 or 2018) was a better year based on SLG"
   ]
  },
  {
   "cell_type": "code",
   "execution_count": null,
   "metadata": {
    "id": "iAExC-SjuL5c"
   },
   "outputs": [],
   "source": [
    "import csv\n",
    "import numpy as np\n",
    "\n",
    "\n"
   ]
  },
  {
   "cell_type": "code",
   "execution_count": null,
   "metadata": {
    "id": "P8Rwr8lmuL5e"
   },
   "outputs": [],
   "source": [
    "FIELDS = ['Rk', 'Pos', 'Name', 'Age', 'G', 'PA', 'AB', 'R', 'H', '2B', '3B', 'HR', 'RBI', 'SB', 'CS', \n",
    "          'BB', 'SO', 'BA', 'OBP', 'SLG', 'OPS', 'OPS+', 'TB', 'GDP', 'HBP', 'SH', 'SF', 'IBB']\n",
    "\n",
    "DATATYPES = [('rk', 'i'), ('pos', '|S25'), ('name', '|S25'), ('age', 'i'), ('g', 'i'), ('pa', 'i'), ('ab', 'i'),\n",
    "                ('r', 'i'), ('h', 'i'), ('2b', 'i'), ('3b', 'i'), ('hr', 'i'), ('rbi', 'i'), ('sb', 'i'), ('cs', 'i'),\n",
    "                ('bb', 'i'), ('so', 'i'), ('ba', 'f'), ('obp', 'f'), ('slg', 'f'), ('ops', 'f'), ('opsp', 'i'),\n",
    "                ('tb', 'i'), ('gdp', 'i'), ('hbp', 'i'), ('sh', 'i'), ('sf', 'i'), ('ibb', 'i')]\n",
    "\n",
    "#Use this function to actually open the data inside of a NDArray\n",
    "\n",
    "\n"
   ]
  }
 ],
 "metadata": {
  "colab": {
   "name": "Copy of Data_Science_Day_1_Exercises-Day1- Homework.ipynb",
   "provenance": []
  },
  "kernelspec": {
   "display_name": "Python 3 (ipykernel)",
   "language": "python",
   "name": "python3"
  },
  "language_info": {
   "codemirror_mode": {
    "name": "ipython",
    "version": 3
   },
   "file_extension": ".py",
   "mimetype": "text/x-python",
   "name": "python",
   "nbconvert_exporter": "python",
   "pygments_lexer": "ipython3",
   "version": "3.11.5"
  }
 },
 "nbformat": 4,
 "nbformat_minor": 1
}
